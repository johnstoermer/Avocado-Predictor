{
 "cells": [
  {
   "cell_type": "code",
   "execution_count": 150,
   "metadata": {},
   "outputs": [],
   "source": [
    "import numpy as np\n",
    "import tensorflow as tf\n",
    "import matplotlib.pyplot as plt\n",
    "import model"
   ]
  },
  {
   "cell_type": "code",
   "execution_count": 151,
   "metadata": {},
   "outputs": [],
   "source": [
    "X, y = avocado_utils.load_avocado_data(\"avocado.csv\")"
   ]
  },
  {
   "cell_type": "code",
   "execution_count": 152,
   "metadata": {},
   "outputs": [
    {
     "name": "stdout",
     "output_type": "stream",
     "text": [
      "[['8.0' '3378088.25' '0.0' '0.0']\n",
      " ['5.0' '3542.46' '1.0' '1.0']\n",
      " ['8.0' '1014709.07' '1.0' '2.0']\n",
      " ...\n",
      " ['4.0' '3074226.19' '0.0' '14.0']\n",
      " ['1.0' '420124.11' '0.0' '29.0']\n",
      " ['10.0' '211956.24' '0.0' '33.0']]\n"
     ]
    }
   ],
   "source": [
    "print(type(X)"
   ]
  },
  {
   "cell_type": "code",
   "execution_count": 153,
   "metadata": {},
   "outputs": [
    {
     "name": "stdout",
     "output_type": "stream",
     "text": [
      "[['1.44']\n",
      " ['1.41']\n",
      " ['1.88']\n",
      " ...\n",
      " ['1.04']\n",
      " ['1.26']\n",
      " ['1.42']]\n"
     ]
    }
   ],
   "source": [
    "print(y)"
   ]
  },
  {
   "cell_type": "code",
   "execution_count": null,
   "metadata": {},
   "outputs": [],
   "source": []
  }
 ],
 "metadata": {
  "kernelspec": {
   "display_name": "Python 3",
   "language": "python",
   "name": "python3"
  },
  "language_info": {
   "codemirror_mode": {
    "name": "ipython",
    "version": 3
   },
   "file_extension": ".py",
   "mimetype": "text/x-python",
   "name": "python",
   "nbconvert_exporter": "python",
   "pygments_lexer": "ipython3",
   "version": "3.7.3"
  }
 },
 "nbformat": 4,
 "nbformat_minor": 2
}
